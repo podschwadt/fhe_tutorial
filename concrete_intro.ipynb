{
  "nbformat": 4,
  "nbformat_minor": 0,
  "metadata": {
    "colab": {
      "provenance": [],
      "authorship_tag": "ABX9TyMDBetyCpNBo96i+spY7Byp",
      "include_colab_link": true
    },
    "kernelspec": {
      "name": "python3",
      "display_name": "Python 3"
    },
    "language_info": {
      "name": "python"
    }
  },
  "cells": [
    {
      "cell_type": "markdown",
      "metadata": {
        "id": "view-in-github",
        "colab_type": "text"
      },
      "source": [
        "<a href=\"https://colab.research.google.com/github/podschwadt/fhe_tutorial/blob/main/concrete_intro.ipynb\" target=\"_parent\"><img src=\"https://colab.research.google.com/assets/colab-badge.svg\" alt=\"Open In Colab\"/></a>"
      ]
    },
    {
      "cell_type": "markdown",
      "source": [
        "Building everything from scratch can be quite cumbersome. An alternative is writing our code as we used to and let a compiler handle the transformation to FHE. In this notebook we will do a small introduction to Concrete by Zama https://github.com/zama-ai/concrete"
      ],
      "metadata": {
        "id": "6o1vNdO0IupX"
      }
    },
    {
      "cell_type": "code",
      "execution_count": null,
      "metadata": {
        "id": "3JNEsY5_Ablx"
      },
      "outputs": [],
      "source": [
        "!pip install concrete-python"
      ]
    },
    {
      "cell_type": "markdown",
      "source": [
        "We'll use the our preceptron from the previous notebook as again. It is able to distinguish between handwirtten 0s and 1s."
      ],
      "metadata": {
        "id": "wrPqTObML1L9"
      }
    },
    {
      "cell_type": "code",
      "source": [
        "import sklearn\n",
        "from sklearn import datasets\n",
        "import numpy as np\n",
        "import matplotlib.pyplot as plt\n",
        "\n",
        "\n",
        "digits = datasets.load_digits()\n",
        "\n",
        "zeroes = digits['images'][digits['target'] == 0]\n",
        "ones = digits['images'][digits['target'] == 1]\n",
        "\n",
        "\n",
        "x = np.concatenate((zeroes, ones))\n",
        "y = np.concatenate((np.zeros(len(zeroes)), np.ones(len(ones))))\n",
        "x,y = sklearn.utils.shuffle(x,y)\n",
        "\n",
        "x_train, y_train = x[:300], y[:300]\n",
        "x_test, y_test = x[300:], y[300:]\n",
        "\n",
        "from sklearn.linear_model import Perceptron\n",
        "\n",
        "classifier = Perceptron()\n",
        "classifier.fit(x_train.reshape(len(x_train),-1), y_train)\n",
        "classifier.score(x_test.reshape(len(x_test),-1), y_test)"
      ],
      "metadata": {
        "id": "NS_7NaDoA5Jq"
      },
      "execution_count": null,
      "outputs": []
    },
    {
      "cell_type": "markdown",
      "source": [
        "Before we run the perceptron on encrypted data, let's look at how the compiler works on a very simple example. We start by importing the relevant package."
      ],
      "metadata": {
        "id": "4ei6_TPzMJyw"
      }
    },
    {
      "cell_type": "code",
      "source": [
        "from concrete import fhe"
      ],
      "metadata": {
        "id": "wru88U1nMX4K"
      },
      "execution_count": null,
      "outputs": []
    },
    {
      "cell_type": "markdown",
      "source": [
        "Then we define the function that we want to run on encyrpted data. We use a simple function that adds to values"
      ],
      "metadata": {
        "id": "e4OXZFITMfL6"
      }
    },
    {
      "cell_type": "code",
      "source": [
        "def add(x, y):\n",
        "    return x + y"
      ],
      "metadata": {
        "id": "XldUa0f0MexP"
      },
      "execution_count": null,
      "outputs": []
    },
    {
      "cell_type": "markdown",
      "source": [
        "Next we create an instance of the compiler. Besides the function we want to compile we need to to tell the compiler what inputs are going to be `encrypted` and which will be in plaintext or `clear`."
      ],
      "metadata": {
        "id": "hfNDVjQfMx1G"
      }
    },
    {
      "cell_type": "code",
      "source": [
        "compiler = fhe.Compiler(add, {'x': 'encrypted', 'y': 'encrypted'})"
      ],
      "metadata": {
        "id": "78kL6jIMMem0"
      },
      "execution_count": null,
      "outputs": []
    },
    {
      "cell_type": "markdown",
      "source": [
        "The compiler needs to know what value ranges the function will encouter. We need to provide it with a list of example values."
      ],
      "metadata": {
        "id": "Ng60TdC-NWBa"
      }
    },
    {
      "cell_type": "code",
      "source": [
        "inputset = [(2, 3), (0, 0), (1, 6), (7, 7), (7, 1), (3, 2), (6, 1), (1, 7), (4, 5), (5, 4)]"
      ],
      "metadata": {
        "id": "USYhUEUQNUVR"
      },
      "execution_count": null,
      "outputs": []
    },
    {
      "cell_type": "markdown",
      "source": [
        "We can then compile the function into an FHE circuit using the inputset"
      ],
      "metadata": {
        "id": "glfNYq2kNzl-"
      }
    },
    {
      "cell_type": "code",
      "source": [
        "circuit = compiler.compile(inputset)"
      ],
      "metadata": {
        "id": "v9egT827N882"
      },
      "execution_count": null,
      "outputs": []
    },
    {
      "cell_type": "markdown",
      "source": [
        "The complier also determines what keys are required to run the circuit. We only need to create them."
      ],
      "metadata": {
        "id": "d12FQpm2N_qE"
      }
    },
    {
      "cell_type": "code",
      "source": [
        "circuit.keygen()"
      ],
      "metadata": {
        "id": "pMLk7TrtOPpz"
      },
      "execution_count": null,
      "outputs": []
    },
    {
      "cell_type": "markdown",
      "source": [
        "Now we have everything to encrypt the data"
      ],
      "metadata": {
        "id": "dqrF8gCNOaMh"
      }
    },
    {
      "cell_type": "code",
      "source": [
        "encrypted_x, encrypted_y = circuit.encrypt(2, 6)"
      ],
      "metadata": {
        "id": "f6OK3pOsOlNk"
      },
      "execution_count": null,
      "outputs": []
    },
    {
      "cell_type": "markdown",
      "source": [
        "We can now use the encrypted data to run the computation."
      ],
      "metadata": {
        "id": "TeDwoQUlOmQd"
      }
    },
    {
      "cell_type": "code",
      "source": [
        "encrypted_result = circuit.run(encrypted_x, encrypted_y)"
      ],
      "metadata": {
        "id": "0gfKaCdTPJl2"
      },
      "execution_count": null,
      "outputs": []
    },
    {
      "cell_type": "markdown",
      "source": [
        "Let's decrypt the result and see if it matches the plain computation"
      ],
      "metadata": {
        "id": "XcafqqtGPKVd"
      }
    },
    {
      "cell_type": "code",
      "source": [
        "result = circuit.decrypt(encrypted_result)\n",
        "result == add(2, 6)"
      ],
      "metadata": {
        "id": "K1biLG_EPUSE"
      },
      "execution_count": null,
      "outputs": []
    },
    {
      "cell_type": "markdown",
      "source": [
        "Let's get back to our preceptron example. First we'll reformat the data a little bit so we can work with more easily."
      ],
      "metadata": {
        "id": "Mq8Kyd1xPcML"
      }
    },
    {
      "cell_type": "code",
      "source": [
        "# transform the data for easier use\n",
        "x_train = x_train.reshape(len(x_train),-1).astype(int)\n",
        "x_test = x_test.reshape(len(x_test),-1).astype(int)\n",
        "weights = classifier.coef_.reshape(-1).astype(int)\n",
        "bias = classifier.intercept_[0].astype(int)"
      ],
      "metadata": {
        "id": "74qdRmF9JJrj"
      },
      "execution_count": null,
      "outputs": []
    },
    {
      "cell_type": "markdown",
      "source": [
        "Let's create function that does the preceptron inference. Recall that the perceptron function is $x \\cdot w + b$ or spelled out $b + \\sum x_iw_i$"
      ],
      "metadata": {
        "id": "NAeJoKq7P53D"
      }
    },
    {
      "cell_type": "code",
      "source": [
        "def perceptron_fhe(x, weights, bias):\n",
        "  result = bias\n",
        "  for x_, w in zip(x, weights):\n",
        "    result += x_ * w\n",
        "  return result"
      ],
      "metadata": {
        "id": "aVxvmD0iP7q9"
      },
      "execution_count": null,
      "outputs": []
    },
    {
      "cell_type": "markdown",
      "source": [
        "We can now compile the preceptron function. In this case only the input x is `encrypted`. The weights and bias will be in the `clear`.\n",
        "\n",
        "Often finding a suitable input set can be tricky. In the case of  machine learning we are in a lucky postition. We can use the training data as our inputset."
      ],
      "metadata": {
        "id": "FUmwKozfQ-iH"
      }
    },
    {
      "cell_type": "code",
      "source": [
        "compiler = fhe.Compiler(perceptron_fhe, {'x': 'encrypted', 'weights': 'clear', 'bias': 'clear'})\n",
        "inputset = [ (x, weights, bias) for x in x_train ]\n",
        "circuit = compiler.compile(inputset)"
      ],
      "metadata": {
        "id": "69pOgSLYGFex"
      },
      "execution_count": null,
      "outputs": []
    },
    {
      "cell_type": "markdown",
      "source": [
        "Now we just need to encrypt the input and we can run the encrypted computation."
      ],
      "metadata": {
        "id": "yGd0r54eRmG5"
      }
    },
    {
      "cell_type": "code",
      "source": [
        "print(f'Key generation...')\n",
        "circuit.keygen()\n",
        "\n",
        "print(f'Homomorphic evaluation...')\n",
        "encrypted_x, _, _ = circuit.encrypt(x_test[0], weights, bias)\n",
        "encrypted_result = circuit.run(encrypted_x, weights, bias)\n",
        "result = circuit.decrypt(encrypted_result)\n"
      ],
      "metadata": {
        "id": "AGIpI7hTHVcn"
      },
      "execution_count": null,
      "outputs": []
    },
    {
      "cell_type": "markdown",
      "source": [
        "Is the output correct?"
      ],
      "metadata": {
        "id": "IARFrVQ2R06g"
      }
    },
    {
      "cell_type": "code",
      "source": [
        "classifier.decision_function(x_test[0].reshape(1,-1)) == result"
      ],
      "metadata": {
        "id": "pFewbgREH0KN"
      },
      "execution_count": null,
      "outputs": []
    },
    {
      "cell_type": "markdown",
      "source": [
        "Bonus Question:\n",
        "\n",
        "Modify the code to meassure the time of the encrypted execution. Then change the function so that all inputs are encrytepd, including weights and biases.\n",
        "What do you observe?"
      ],
      "metadata": {
        "id": "X9M1HAQ3RyuA"
      }
    },
    {
      "cell_type": "code",
      "source": [
        "# timing stuff in python\n",
        "import time\n",
        "start =  time.time()\n",
        "# function to meassure\n",
        "end = time.time()\n",
        "print(f'Time in seconds: {end - start}')"
      ],
      "metadata": {
        "id": "fLxRz4mRSyCl"
      },
      "execution_count": null,
      "outputs": []
    }
  ]
}