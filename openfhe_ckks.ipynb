{
  "nbformat": 4,
  "nbformat_minor": 0,
  "metadata": {
    "colab": {
      "provenance": [],
      "collapsed_sections": [
        "rR8ie88ACog-",
        "kIW2Vopwfsa2"
      ],
      "authorship_tag": "ABX9TyO2REhhktIKgR6aAnVi00uf",
      "include_colab_link": true
    },
    "kernelspec": {
      "name": "python3",
      "display_name": "Python 3"
    },
    "language_info": {
      "name": "python"
    }
  },
  "cells": [
    {
      "cell_type": "markdown",
      "metadata": {
        "id": "view-in-github",
        "colab_type": "text"
      },
      "source": [
        "<a href=\"https://colab.research.google.com/github/podschwadt/fhe_tutorial/blob/main/openfhe_ckks.ipynb\" target=\"_parent\"><img src=\"https://colab.research.google.com/assets/colab-badge.svg\" alt=\"Open In Colab\"/></a>"
      ]
    },
    {
      "cell_type": "markdown",
      "source": [
        "# OpenFHE\n",
        "\n",
        "OpenFHE is a C++ library (https://github.com/openfheorg/openfhe-development). We will be using the official Python wrapper (https://github.com/openfheorg/openfhe-python). While the C++ version has more features, the Python wrapper provides all the features we need, is easier to use, and the naming conventions are identical to the C++ library, making it easy to switch over.\n",
        "\n",
        "Currently, the OpenFHE Python wrapper does not provide a prebuilt package, and we need to build it ourselves. In the interest of time, I have built the package so that it works in Colab and uploaded it Github.\n",
        "\n",
        "The cell below downloads my prebuilt package and installs it. If you are running this notebook outside of Colab you should **not** run this cell (it will probably fail anyway). Instead follow the installation instructions from the Github page (https://github.com/openfheorg/openfhe-python?tab=readme-ov-file#building-from-source)"
      ],
      "metadata": {
        "id": "NoAMhGiXuzUH"
      }
    },
    {
      "cell_type": "code",
      "execution_count": null,
      "metadata": {
        "id": "vCA3fB8pATlT"
      },
      "outputs": [],
      "source": [
        "!wget https://github.com/podschwadt/fhe_tutorial/releases/download/1.0.0/openfhe.tar.gz\n",
        "!tar xPf openfhe.tar.gz\n",
        "!pip install openfhe-0.8.4-cp310-cp310-linux_x86_64.whl"
      ]
    },
    {
      "cell_type": "markdown",
      "source": [
        "Now that we installed the `openfhe` Python package we can import it."
      ],
      "metadata": {
        "id": "b5ApJCvl17Z-"
      }
    },
    {
      "cell_type": "code",
      "source": [
        "import openfhe"
      ],
      "metadata": {
        "id": "XpIdc44h2OoN"
      },
      "execution_count": null,
      "outputs": []
    },
    {
      "cell_type": "markdown",
      "source": [
        "## Creating a Context\n",
        "\n",
        "The most important class in OpenFHE is the `CryptoContext`. It represents\n",
        " the instantiation of a scheme and holds all the parameters, like ring dimension, etc. We can use the context to create keys, encode data, encrypt and decrypt data, and perform all sorts of operations on the ciphertexts.\n",
        "\n",
        " To create a Context, we first need to specify some parameters. At the very least, we need to select the scheme. To use the integer or real numbers schemes, we need to use the appropiate parameter class. The availabe classes are:\n",
        "\n",
        "*   `CCParamsBFVRNS` for BFV\n",
        "*   `CCParamsBGVRNS` for BFV\n",
        "*   `CCParamsCKKSRNS` for CKKS\n",
        "\n",
        "As you can see from the names, OpenFHE implements the RNS (residue number system) variants of the schemes for efficiency. The binary schemes do not have a dedicated parameter class. But more on that later.\n",
        "\n"
      ],
      "metadata": {
        "id": "C4GnHyCl2UOT"
      }
    },
    {
      "cell_type": "markdown",
      "source": [
        "We are going to create parameters to instantiate a CKKS context. For now, we won't set any specific parameters and will simply work with the default values."
      ],
      "metadata": {
        "id": "lG1bgwsRai2q"
      }
    },
    {
      "cell_type": "code",
      "source": [
        "parameters = openfhe.CCParamsCKKSRNS()\n",
        "# print the string represenation of the paramters\n",
        "str(parameters)"
      ],
      "metadata": {
        "id": "HJQ9AAOuEOX3"
      },
      "execution_count": null,
      "outputs": []
    },
    {
      "cell_type": "markdown",
      "source": [
        "We can see that parameters hold quite a lot of information. Many of these options will probably look unfamilar to you and infact many are inteded for experts, as they have security implications.\n",
        "\n",
        "However, a few might look familar. Let's go over some of them.\n",
        "\n",
        "*   `batchSize`: Is the number of slots in a plaintext/ciphertext that hold meanigful information. Here we have `0`, meaning that we don't want to create the context with a specific number of slots.\n",
        "*   `multiplicativeDepth`: The number of multiplications before we can no longer correctly decrypt the ciphertext. Currently `1`\n",
        "*    `scalingModSize`: The size (in bits) of the $q_i$ primes that we use to calcualte the ciphertext modulus $Q$. Needs to be less than 60. Currently `50`\n",
        "*    `securityLevel`: The security level tells us how secure (in bits) the scheme instantiation will be. It is based on the recommendations in the HE standard (https://homomorphicencryption.org/wp-content/uploads/2018/11/HomomorphicEncryptionStandardv1.1.pdf). It is used to verify parameters such as ring dimension and ciphertext modulus or select appropriate ones if we don't specify any. Available **secure** values are `HEStd_128_classic`,`HEStd_192_classic`, and `HEStd_256_classic`. If we want to use less (or insecure) parameters for testing we can use `HEStd_NotSet`. Obviously, it is not recommended for any security-critical settings.\n",
        "*    `ringDim` the dimension $N$ of the ring $Z_q[x]/(X^N+1)$. Currently set to `0` which means it will be determined later based on the other parameters.\n"
      ],
      "metadata": {
        "id": "Hw4d9DW9bRVl"
      }
    },
    {
      "cell_type": "markdown",
      "source": [
        "Now, we can create a Context from our parameters. Once we have the context object we need to enable a few features. Here we are enabling `PKE` to allow for public key generation, `KEYSWITCH` which we need for relineraization (and later for rotations) and `LEVELEDSHE` for rescaling."
      ],
      "metadata": {
        "id": "Emfl-cnew6b_"
      }
    },
    {
      "cell_type": "code",
      "source": [
        "context = openfhe.GenCryptoContext(parameters)\n",
        "context.Enable(openfhe.PKESchemeFeature.PKE)\n",
        "context.Enable(openfhe.PKESchemeFeature.KEYSWITCH)\n",
        "context.Enable(openfhe.PKESchemeFeature.LEVELEDSHE)"
      ],
      "metadata": {
        "id": "7qKUdjjHF2yv"
      },
      "execution_count": null,
      "outputs": []
    },
    {
      "cell_type": "markdown",
      "source": [
        "Now that we have a context let's see what ring dimension was chosen."
      ],
      "metadata": {
        "id": "ldQJCU1DzetT"
      }
    },
    {
      "cell_type": "code",
      "source": [
        "context.GetRingDimension()"
      ],
      "metadata": {
        "id": "pOyn7vUZ4htq"
      },
      "execution_count": null,
      "outputs": []
    },
    {
      "cell_type": "markdown",
      "source": [
        "## Encoding and Encryption\n",
        "\n",
        "Using the context, we can encode a message into plaintext. Recall that a message is a vector of real numbers. Once we have a message vector we can use the `MakeCKKSPackedPlaintext` to encode the message into a plaintext."
      ],
      "metadata": {
        "id": "5jJmR15E1mSd"
      }
    },
    {
      "cell_type": "code",
      "source": [
        "# create a message vector\n",
        "msg_0 = [0.0, 1.0, 2.0, 3.0, 4.0, 5.0]\n",
        "\n",
        "ptxt_0 = context.MakeCKKSPackedPlaintext(msg_0)\n",
        "ptxt_0"
      ],
      "metadata": {
        "id": "ZX4vTKRH1mCE"
      },
      "execution_count": null,
      "outputs": []
    },
    {
      "cell_type": "markdown",
      "source": [
        "Before we can do anyhting more with the context we need to create a public and a private key. `KeyGen` returns a key pair instance which has a member `pubicKey` and `secretKey`."
      ],
      "metadata": {
        "id": "vdBbR9nPzqUn"
      }
    },
    {
      "cell_type": "code",
      "source": [
        "keys = context.KeyGen()"
      ],
      "metadata": {
        "id": "tqkwkCQQEVBN"
      },
      "execution_count": null,
      "outputs": []
    },
    {
      "cell_type": "markdown",
      "source": [
        "Using the `secretKey` we can encrypt the plaintext"
      ],
      "metadata": {
        "id": "7Y-xORoa1h4a"
      }
    },
    {
      "cell_type": "code",
      "source": [
        "ctxt_0 = context.Encrypt(keys.publicKey, ptxt_0)"
      ],
      "metadata": {
        "id": "Wun7R3pI3cUV"
      },
      "execution_count": null,
      "outputs": []
    },
    {
      "cell_type": "markdown",
      "source": [
        "Let's see what happens if we decrypt the ciphertext\n",
        "\n",
        "\n"
      ],
      "metadata": {
        "id": "rTB2fAG83sWD"
      }
    },
    {
      "cell_type": "code",
      "source": [
        "# first print the message that is encrypted in the ciphertext\n",
        "print(f'orginial message is: {msg_0}')\n",
        "decryption = context.Decrypt(keys.secretKey,ctxt_0)\n",
        "print('decrypted message is:')\n",
        "decryption"
      ],
      "metadata": {
        "id": "IzW3QDse3xh1"
      },
      "execution_count": null,
      "outputs": []
    },
    {
      "cell_type": "markdown",
      "source": [
        "Oh. This looks like a lot more than we were expecting. If you inspect the decryption there a (at least) two things you should notice.  \n",
        "\n",
        "1.   If you look at the first few decrypted values and compare them to the message what do you notice? How do you explain your observation?\n",
        "2.  Look at the number of items. How many values should it be? What do you notice about most of the values?\n",
        "\n",
        "Think about your answers for a moment before you expand the cell below."
      ],
      "metadata": {
        "id": "xzlQUbRg9lJH"
      }
    },
    {
      "cell_type": "markdown",
      "source": [
        "### Answers"
      ],
      "metadata": {
        "id": "rR8ie88ACog-"
      }
    },
    {
      "cell_type": "markdown",
      "source": [
        "\n",
        "\n",
        "1.  We can see that the encryption of `0` does not quite decrypt to `0` again but rather something very small. The absolute value is around $10^{-12}$ to $10^{-13}$ (the exact value differs as it depends on your exact scheme parameters). We don't get an exact decryption of `0` since CKKS is not an exact scheme and does incude some approximation error.\n",
        "\n",
        "2. Our decryption contains `8192` values. If you recall from earlier that we observed a ring dimension $N$ of `16384`. CKKS plaintexts encode vectors of length $N/2$. In the decryption, we see that the vast majority (everything after our message) is nearly `0` not quite `0` for the same reason our encryption of `0` doesn't decrypt to exactly `0`. All these \"0\"s mean that we are wasting a lot of space in the ciphertexts. 8186 slots, to be precise. We'll discuss later how we can make better use of the slots.\n",
        "\n"
      ],
      "metadata": {
        "id": "la_2J1SeERuK"
      }
    },
    {
      "cell_type": "markdown",
      "source": [
        "## Ciphertext Operations"
      ],
      "metadata": {
        "id": "ol5aRoZRD1MH"
      }
    },
    {
      "cell_type": "markdown",
      "source": [
        "So far we have done nothing that we can't do with other public key schemes. Let's create a second ciphertext and see some operations in action."
      ],
      "metadata": {
        "id": "ZjmHruHNQ4oL"
      }
    },
    {
      "cell_type": "code",
      "source": [
        "msg_1 = [0.1, 0.2, 0.3, 0.4, 0.5, 0.6]\n",
        "ptxt_1 = context.MakeCKKSPackedPlaintext(msg_1)\n",
        "ctxt_1 = context.Encrypt(keys.publicKey, ptxt_1)"
      ],
      "metadata": {
        "id": "7n2nRtyrKhQG"
      },
      "execution_count": null,
      "outputs": []
    },
    {
      "cell_type": "markdown",
      "source": [
        "Like most other operations arithmetic operations are also accessible through the context.\n",
        "\n",
        "In OpenFHE most operations that perfom an operation are prefixed with `Eval`. E.g. addition is `EvalAdd`.\n",
        "\n",
        "We've seen before that currently plaintexts and ciphertexts contain many more values than we use. We can tell a plaintext how many values inside are useful to use by using the `SetLenght` methode."
      ],
      "metadata": {
        "id": "OOnblX2LR4EI"
      }
    },
    {
      "cell_type": "code",
      "source": [
        "# add the two ciphertexts together\n",
        "addition = context.EvalAdd(ctxt_0, ctxt_1)\n",
        "decryption = context.Decrypt(keys.secretKey,addition)\n",
        "# we are only interessted in the first 6 values\n",
        "decryption.SetLength(6)\n",
        "# get the decoded values\n",
        "print('encrypted result')\n",
        "print(decryption.GetRealPackedValue())\n",
        "# let's compare that plain computation\n",
        "print('plain result')\n",
        "print([x + y for x,y in zip(msg_0,msg_1)])"
      ],
      "metadata": {
        "id": "Pmc7R-cNXgUF"
      },
      "execution_count": null,
      "outputs": []
    },
    {
      "cell_type": "code",
      "source": [
        "# We can also do subtraction\n",
        "subtraction = context.EvalSub(addition, ctxt_1)\n",
        "decryption = context.Decrypt(keys.secretKey,subtraction)\n",
        "# we are only interessted in the first 6 values\n",
        "decryption.SetLength(6)\n",
        "# get the decoded values\n",
        "print('encrypted result')\n",
        "print(decryption.GetRealPackedValue())\n",
        "# the plain results shoud be the original msg_0 or at least close to it\n",
        "print('plain result')\n",
        "print(msg_0)"
      ],
      "metadata": {
        "id": "xO1niSGDU-cH"
      },
      "execution_count": null,
      "outputs": []
    },
    {
      "cell_type": "markdown",
      "source": [
        "Not only can we add ciphertexts to ciphertexts. We can also perform the operation with a ciphertext and plaintext. The plaintext can be encoded or unencoded. In the unencoded case, we use a scalar. During the operation, the scalar will be encoded into a plaintext where all slots contain the scalar.\n",
        "\n",
        "Try it for youself below:"
      ],
      "metadata": {
        "id": "gauHlKdqWMvO"
      }
    },
    {
      "cell_type": "code",
      "source": [
        "# addition of a ciphertext and plaintext\n",
        "print('ciphertext + plaintext')\n",
        "\n",
        "\n",
        "addition =\n",
        "\n",
        "decryption = context.Decrypt(keys.secretKey,addition)\n",
        "# we are only interessted in the first 6 values\n",
        "decryption.SetLength(6)\n",
        "# get the decoded values\n",
        "print('encrypted result')\n",
        "print(decryption.GetRealPackedValue())\n",
        "# let's compare that plain computation\n",
        "print('plain result')\n",
        "print([x + y for x,y in zip(msg_0,msg_0)])"
      ],
      "metadata": {
        "id": "eggpNZCRVz5u"
      },
      "execution_count": null,
      "outputs": []
    },
    {
      "cell_type": "code",
      "source": [
        "# addition of a ciphertext and a scalar\n",
        "print('ciphertext + scalar')\n",
        "\n",
        "scalar = # choose a scalar\n",
        "addition = # add ctxt_0 and the scalar\n",
        "\n",
        "decryption = context.Decrypt(keys.secretKey,addition)\n",
        "# we are only interessted in the first 6 values\n",
        "# decryption.SetLength(6)\n",
        "# get the decoded values\n",
        "print('encrypted result')\n",
        "print(decryption.GetRealPackedValue())\n",
        "# let's compare that plain computation\n",
        "print('plain result')\n",
        "print([x + scalar for x in msg_0])"
      ],
      "metadata": {
        "id": "nsmUEUC4ZbQ1"
      },
      "execution_count": null,
      "outputs": []
    },
    {
      "cell_type": "markdown",
      "source": [
        " In addition to addition we can also perform multiplication. OpenFHE has two multiplication methods. `EvalMultNoRelin` and `EvalMutl`. The first preforms multiplication without relineratization, the second relinearizes the ciphertext after multipication. Let's see some multiplication in action."
      ],
      "metadata": {
        "id": "-h1oVHRaBNCN"
      }
    },
    {
      "cell_type": "code",
      "source": [
        "multiplication = context.EvalMultNoRelin(ctxt_0, ctxt_1)\n",
        "decryption = context.Decrypt(keys.secretKey,multiplication)\n",
        "# we are only interessted in the first 6 values\n",
        "decryption.SetLength(6)\n",
        "# get the decoded values\n",
        "print('encrypted result')\n",
        "print(decryption.GetRealPackedValue())\n",
        "print('plain result')\n",
        "print([x * y for x,y in zip(msg_0, msg_1)])\n"
      ],
      "metadata": {
        "id": "FQeBoigF4Db-"
      },
      "execution_count": null,
      "outputs": []
    },
    {
      "cell_type": "markdown",
      "source": [
        "Looks pretty good. Let's do some one more multiplication and square the result."
      ],
      "metadata": {
        "id": "yjGGzxySFkVu"
      }
    },
    {
      "cell_type": "code",
      "source": [
        "multiplication = context.EvalMultNoRelin(multiplication, multiplication)\n",
        "decryption = context.Decrypt(keys.secretKey, multiplication)\n",
        "# we are only interessted in the first 6 values\n",
        "decryption.SetLength(6)\n",
        "# get the decoded values\n",
        "print('encrypted result')\n",
        "print(decryption.GetRealPackedValue())\n",
        "print('plain result')\n",
        "print([(x * y)*(x * y) for x,y in zip(msg_0, msg_1)])"
      ],
      "metadata": {
        "id": "jfsYbBRAFrMT"
      },
      "execution_count": null,
      "outputs": []
    },
    {
      "cell_type": "markdown",
      "source": [
        "That failed. We have run out of \"prescion\". Additionally, so far we have not reliniarized our ciphertext, so the number of polynomials just keeps growing. Let's solve that problem first. If we try to run multiplication with relinearization `EvalMult` or relinearization on its own `Relinearize` it will fail. You can see that in the next two cells."
      ],
      "metadata": {
        "id": "o-DGY8YWaCJG"
      }
    },
    {
      "cell_type": "code",
      "source": [
        "context.Relinearize(multiplication)"
      ],
      "metadata": {
        "id": "jDITpNzzbfw6"
      },
      "execution_count": null,
      "outputs": []
    },
    {
      "cell_type": "code",
      "source": [
        "multiplication = context.EvalMult(ctxt_0, ctxt_1)"
      ],
      "metadata": {
        "id": "rRPToY8Dbp-5"
      },
      "execution_count": null,
      "outputs": []
    },
    {
      "cell_type": "markdown",
      "source": [
        "We need to create relinearization keys first. OpenFHE calls them multiplication keys. We can create them using the context and the secret key by calling `EvalMultKeysGen`.\n",
        "\n",
        "Let's think about what this means for a moment. If we want to send our encrypted data to someone for encrypted computation, they do not only need our data; we also need to provide them with relinearization keys."
      ],
      "metadata": {
        "id": "FYREytnBb-Y8"
      }
    },
    {
      "cell_type": "code",
      "source": [
        "context.EvalMultKeysGen(keys.secretKey)"
      ],
      "metadata": {
        "id": "ZnH_KpAjG8OV"
      },
      "execution_count": null,
      "outputs": []
    },
    {
      "cell_type": "markdown",
      "source": [
        "Now we should be able to relinearize our ciphertext from ealier, right?"
      ],
      "metadata": {
        "id": "jO5gHXRxfFZJ"
      }
    },
    {
      "cell_type": "code",
      "source": [
        "relined = context.Relinearize(multiplication)\n",
        "decryption = context.Decrypt(keys.secretKey, relined)"
      ],
      "metadata": {
        "id": "ItPSAopTewrd"
      },
      "execution_count": null,
      "outputs": []
    },
    {
      "cell_type": "markdown",
      "source": [
        "That didn't work. Why do you think that is?"
      ],
      "metadata": {
        "id": "KyFaJUPmfQPD"
      }
    },
    {
      "cell_type": "markdown",
      "source": [
        "### Answer\n",
        "\n"
      ],
      "metadata": {
        "id": "kIW2Vopwfsa2"
      }
    },
    {
      "cell_type": "markdown",
      "source": [
        "When we multiply two ciphertext and don't relinearize they size grows from 2 to 3. If we perform further multiplications the size is grows even larger. By default, the relinearization keys are created to take a ciphertext from size 3 back down to 2. Unless you have a good reason you should always perform relinearization after a multiplication. Thankfully, OpenFHE does that for us."
      ],
      "metadata": {
        "id": "XOhlgS6BhMd3"
      }
    },
    {
      "cell_type": "markdown",
      "source": [
        "##  Deeper and more Complext Computation\n",
        "\n",
        "So far, all the computations we have done were pretty simple. Let's step it up a bit.\n",
        "\n",
        "With what we learned so far, compute the polynomial $x^2+2x+1$ on the ciphertext `ctxt_0` and store result in `result`"
      ],
      "metadata": {
        "id": "T0kId_EehOCu"
      }
    },
    {
      "cell_type": "code",
      "source": [
        "# x^2+ 2x + 1\n",
        "\n",
        "# add your code here\n",
        "\n",
        "result = #\n",
        "\n",
        "decryption = context.Decrypt(keys.secretKey, result)\n",
        "# we are only interessted in the first 6 values\n",
        "decryption.SetLength(6)\n",
        "# get the decoded values\n",
        "print('encrypted result')\n",
        "print(decryption.GetRealPackedValue())\n",
        "print('plain result')\n",
        "print([x**2 + 2*x + 1 for x in msg_0])\n"
      ],
      "metadata": {
        "id": "R4ga2eZGHbdE"
      },
      "execution_count": null,
      "outputs": []
    },
    {
      "cell_type": "markdown",
      "source": [
        "Nicely done, but what about  $3x^2+2x+1$? Copy your code from above into the cell below and modify it to compute $3x^2+2x+1$"
      ],
      "metadata": {
        "id": "6qIjVniqst1w"
      }
    },
    {
      "cell_type": "code",
      "source": [
        "# 3x^2 + 2x + 1\n",
        "\n",
        "sqr = context.EvalMult(ctxt_0, ctxt_0)\n",
        "sqr = context.EvalMult(sqr,3)\n",
        "\n",
        "two_x = context.EvalMult(ctxt_0,2)\n",
        "\n",
        "result = context.EvalAdd(sqr,two_x)\n",
        "result = context.EvalAdd(result,1)\n",
        "\n",
        "\n",
        "decryption = context.Decrypt(keys.secretKey, result)\n",
        "# we are only interessted in the first 6 values\n",
        "decryption.SetLength(6)\n",
        "# get the decoded values\n",
        "print('encrypted result')\n",
        "print(decryption.GetRealPackedValue())\n",
        "print('plain result')\n",
        "print([3*x**2 + 2*x + 1 for x in msg_0])\n"
      ],
      "metadata": {
        "id": "EkgYy1ch8aHj"
      },
      "execution_count": null,
      "outputs": []
    },
    {
      "cell_type": "markdown",
      "source": [
        "Once again it failed. We need to change the encryption parameters. To do that we need to create a new context. What do you think we need to change?"
      ],
      "metadata": {
        "id": "UA_YwRUOuG46"
      }
    },
    {
      "cell_type": "code",
      "source": [
        "parameters = openfhe.CCParamsCKKSRNS()\n",
        "\n",
        "# change the parameters so that we can evaluate 3x^2 + 2x + 1\n",
        "\n",
        "parameters.\n",
        "\n",
        "context = openfhe.GenCryptoContext(parameters)\n",
        "context.Enable(openfhe.PKESchemeFeature.PKE)\n",
        "context.Enable(openfhe.PKESchemeFeature.KEYSWITCH)\n",
        "context.Enable(openfhe.PKESchemeFeature.LEVELEDSHE)\n",
        "context.Enable(openfhe.PKESchemeFeature.ADVANCEDSHE)\n",
        "\n",
        "print('parameter')\n",
        "print(str(parameters))\n",
        "print('ring dimension')\n",
        "print(context.GetRingDimension())\n",
        "\n",
        "keys = context.KeyGen()\n",
        "context.EvalMultKeysGen(keys.secretKey)\n",
        "ptxt_0 = context.MakeCKKSPackedPlaintext(msg_0)\n",
        "ctxt_0 = context.Encrypt(keys.publicKey, ptxt_0)"
      ],
      "metadata": {
        "id": "XIrAwtvLuTI_"
      },
      "execution_count": null,
      "outputs": []
    },
    {
      "cell_type": "markdown",
      "source": [
        "Let's see if that worked. OpenFHE provides a function `EvalPoly` to evaluate a polynomial on a ciphertext. We simply need to pass the coeffecients to the functions going from lowest power coeffiecent to highest. So in our case of $3x^2+2x+1$ we need to pass `[1,2,3]`. The degree of the polynomial will be automatically determined as as the lenght of the coefficie"
      ],
      "metadata": {
        "id": "n01L4z364uUo"
      }
    },
    {
      "cell_type": "code",
      "source": [
        "result = context.EvalPoly(ctxt_0, [1,2,3])\n",
        "\n",
        "decryption = context.Decrypt(keys.secretKey, result)\n",
        "# we are only interessted in the first 6 values\n",
        "decryption.SetLength(6)\n",
        "# get the decoded values\n",
        "print('encrypted result')\n",
        "print(decryption.GetRealPackedValue())\n",
        "print('plain result')\n",
        "print([3*x**2 + 2*x + 1 for x in msg_0])"
      ],
      "metadata": {
        "id": "dU8sxve8uz0j"
      },
      "execution_count": null,
      "outputs": []
    },
    {
      "cell_type": "markdown",
      "source": [
        "## A \"real-world\" Example\n",
        "\n",
        "Now that we have seen the fundamental building blocks, it is time to put them together. Our goal is to recognize handwritten digits. Yes, the (in)famous MNIST handwritten digit dataset. If you haven't heard of it or want to see some examples, have a look at the Wikipedia page (https://en.wikipedia.org/wiki/MNIST_database).\n",
        "\n",
        "We'll use the dataset included in scikit-learn. Here, every digit is a 8x8 pixel greyscale image. First, let's tackle a simple task. Distinguish `0`s and `1`s.\n",
        "\n",
        "First, we load the data and extract all the `0`s and `1`s."
      ],
      "metadata": {
        "id": "CLxB5f89AXSX"
      }
    },
    {
      "cell_type": "code",
      "source": [
        "import sklearn\n",
        "from sklearn import datasets\n",
        "import numpy as np\n",
        "import matplotlib.pyplot as plt\n",
        "\n",
        "\n",
        "digits = datasets.load_digits()\n",
        "\n",
        "zeroes = digits['images'][digits['target'] == 0]\n",
        "ones = digits['images'][digits['target'] == 1]"
      ],
      "metadata": {
        "id": "cb7VmczJuibo"
      },
      "execution_count": null,
      "outputs": []
    },
    {
      "cell_type": "markdown",
      "source": [
        "Let's take a closer look at the data"
      ],
      "metadata": {
        "id": "cyS8nLrwCxpk"
      }
    },
    {
      "cell_type": "code",
      "source": [
        "zeroes.shape, ones.shape"
      ],
      "metadata": {
        "id": "DwaTPvPOZW2T"
      },
      "execution_count": null,
      "outputs": []
    },
    {
      "cell_type": "code",
      "source": [
        "plt.imshow(zeroes[0])\n",
        "plt.show()\n",
        "plt.imshow(ones[0])"
      ],
      "metadata": {
        "id": "kZ3VVIpZZwvd"
      },
      "execution_count": null,
      "outputs": []
    },
    {
      "cell_type": "markdown",
      "source": [
        "Next, we combine all our `0`s and `1`s, and create appropiate labels. Then we'll shuffle the data."
      ],
      "metadata": {
        "id": "K9iy-wTYC2mM"
      }
    },
    {
      "cell_type": "code",
      "source": [
        "x = np.concatenate((zeroes, ones))\n",
        "y = np.concatenate((np.zeros(len(zeroes)), np.ones(len(ones))))\n",
        "x,y = sklearn.utils.shuffle(x,y)\n",
        "x,y, y.shape"
      ],
      "metadata": {
        "id": "-pR6krhfa3Up"
      },
      "execution_count": null,
      "outputs": []
    },
    {
      "cell_type": "markdown",
      "source": [
        "Our new, reduced dataset contains 360 instances. Let's set 60 instances aside for testing and use the rest to train a classifier."
      ],
      "metadata": {
        "id": "UFZmqaHvDMhj"
      }
    },
    {
      "cell_type": "code",
      "source": [
        "x_train, y_train = x[:300], y[:300]\n",
        "x_test, y_test = x[300:], y[300:]"
      ],
      "metadata": {
        "id": "kyt_BPrlbeq2"
      },
      "execution_count": null,
      "outputs": []
    },
    {
      "cell_type": "markdown",
      "source": [
        "We'll use the `Perceptron` classifier. The perceptron is a very simple classifier. It learns a linear decision boundary between two classes. We won't go into how the learning works; we are only interested in making the decisions. It learns a weight $w_i$ for each feature $x_i$ and bias $b$.\n",
        "\n",
        "In our case an instance is an image of a hand-written digit. It consists of 64 features, which are the pixel values. To work with the perceptron we flatten the 2D images into a 1D vector.\n",
        "\n",
        "To make a decision the perceptron takes a vector $x$ and the learned weight vector $w$ and computes the dot product $x \\cdot w$ and then adds the bias $b$ to the result. If the result is greater than 0, we have class 1 otherwise class 0.\n",
        "\n",
        "Let's train the perceptron on our training data and see how well it performs on the unseen test data."
      ],
      "metadata": {
        "id": "7Zk4Gs-dD8Wz"
      }
    },
    {
      "cell_type": "code",
      "source": [
        "from sklearn.linear_model import Perceptron\n",
        "\n",
        "classifier = Perceptron()\n",
        "classifier.fit(x_train.reshape(len(x_train),-1), y_train)\n",
        "classifier.score(x_test.reshape(len(x_test),-1), y_test)"
      ],
      "metadata": {
        "id": "CYnIEkD0bzZK"
      },
      "execution_count": null,
      "outputs": []
    },
    {
      "cell_type": "markdown",
      "source": [
        "Fantastic. We learned the perfect classifier. Let's see what we learned. In sklearn the weights are stored in the `coef_` and bias in the `intercept_` members of the classifier."
      ],
      "metadata": {
        "id": "6CS6blPAKcXr"
      }
    },
    {
      "cell_type": "code",
      "source": [
        "classifier.coef_, classifier.intercept_"
      ],
      "metadata": {
        "id": "FpwvgU6YdCku"
      },
      "execution_count": null,
      "outputs": []
    },
    {
      "cell_type": "markdown",
      "source": [
        "Now we have everything we need to run the perceptron on encrypted data. Below you'll find a function stub. The function expects the weights (`coef_`) and bias (`intercept_`). Additionally, you need to pass a list of ciphertexts that encrypt an instance, and finally the context. The function than returns a list of ciphertexts (although this list might contain only a single ciphertext, depending on your implementation)\n",
        "\n",
        "At this point you also need to think about your encoding/encyrption. Here are some things you need to think of:\n",
        "\n",
        "\n",
        "*   How many ciphertexts do you need?\n",
        "*   Which slot will a given feature go into?\n",
        "*   How does that influence the implemtation of the dot product?\n",
        "\n",
        "There are two function stubs that encrypt and instance into a list of ciphertexts and decrypt the result of your pereceptron."
      ],
      "metadata": {
        "id": "LM5NBbcXObn9"
      }
    },
    {
      "cell_type": "code",
      "source": [
        "from typing import List\n",
        "\n",
        "def encrypted_perceptron(coef:np.ndarray,\n",
        "                         intercept:np.ndarray, x: List[openfhe.Ciphertext],\n",
        "                         context: openfhe.CryptoContext) -> List[openfhe.Ciphertext]:\n",
        "  \"\"\"\n",
        "  Compute the perceptron classification on encrypted data.\n",
        "  The formula is: x * coef + intercept, where is * the dot\n",
        "  product.\n",
        "\n",
        "  Arguments:\n",
        "  coef: np.ndarray the percepetron coefficients/weights\n",
        "  intercept: np.ndarray the perceptron intercept/bias\n",
        "  x: list of openfhe.Ciphertext the encrypted input data\n",
        "  context: openfhe.Context\n",
        "\n",
        "  Returns:\n",
        "  list of openfhe.Ciphertext the encrypted result\n",
        "  \"\"\"\n",
        "  # if you want the weights to be a simple 1D vector and the bias just a scalar\n",
        "  # uncomment the next to lines. Otherwise they will be 2D matrix and 1D vector instead\n",
        "  # coef = coef.reshape(-1)\n",
        "  # intercept = intercept[0]\n",
        "  pass\n",
        "\n",
        "\n",
        "def encrypt_instance(x: np.ndarray, context: openfhe.CryptoContext,\n",
        "                     pub_key: openfhe.PublicKey) -> List[openfhe.Ciphertext]:\n",
        "  \"\"\"\n",
        "  Encrypt an instance and return a list of ciphertexts\n",
        "  \"\"\"\n",
        "  pass\n",
        "\n",
        "\n",
        "def decrypt_result(encryption: List[openfhe.Ciphertext],\n",
        "                   context: openfhe.CryptoContext,\n",
        "                   sec_key: openfhe.PrivateKey) -> np.ndarray:\n",
        "  \"\"\"\n",
        "  Decrypt a list of ciphertexts and return a classification result as a numpy array\n",
        "  \"\"\"\n",
        "  pass"
      ],
      "metadata": {
        "id": "cY1sIPKUhHYg"
      },
      "execution_count": null,
      "outputs": []
    },
    {
      "cell_type": "markdown",
      "source": [
        "You can use the cell below to test your implementation. It also provides some timing information on how long your functions take."
      ],
      "metadata": {
        "id": "8AtmPfQsVR0V"
      }
    },
    {
      "cell_type": "code",
      "source": [
        "# select an instance\n",
        "instance_no = 0\n",
        "x = x_test[instance_no]\n",
        "y = y_test[instance_no]\n",
        "\n",
        "# get the plain data\n",
        "print('plain computation')\n",
        "%time plain_result = classifier.decision_function(x.reshape(1,-1))\n",
        "print(plain_result)\n",
        "\n",
        "\n",
        "# encrypt the instance\n",
        "print('encrypting data')\n",
        "%time encryption = encrypt_instance(x, context, keys.publicKey)\n",
        "\n",
        "print('encrypted computation')\n",
        "%time encrypted_result = encrypted_perceptron(classifier.coef_, classifier.intercept_, encryption, context)\n",
        "# decrypt and decode the result here\n",
        "decrypted_result = decrypt_result(encrypted_result, context, keys.secretKey)\n",
        "print(decrypted_result)\n",
        "\n",
        "\n",
        "print(f'plain result:{plain_result}, encyrpted result {decrypted_result}')\n",
        "\n"
      ],
      "metadata": {
        "id": "rIYYOCk9hXjp"
      },
      "execution_count": null,
      "outputs": []
    },
    {
      "cell_type": "markdown",
      "source": [
        "The issue with this implementation is that we are leaving many of the ciphertext slots unfilled. Can you modify your implementaion to so it can process the entire test data at once?\n",
        "\n",
        "Put your batched implementation into the cell below"
      ],
      "metadata": {
        "id": "APSsiRnhY_Wq"
      }
    },
    {
      "cell_type": "code",
      "source": [
        "def encrypted_perceptron_batch(coef:np.ndarray,\n",
        "                         intercept:np.ndarray, x: List[openfhe.Ciphertext],\n",
        "                         context: openfhe.CryptoContext) -> List[openfhe.Ciphertext]:\n",
        "  \"\"\"\n",
        "  Compute the perceptron classification on encrypted data.\n",
        "  The formula is: x * coef + intercept, where is * the dot\n",
        "  product.\n",
        "\n",
        "  Arguments:\n",
        "  coef: np.ndarray the percepetron coefficients/weights\n",
        "  intercept: np.ndarray the perceptron intercept/bias\n",
        "  x: list of openfhe.Ciphertext the encrypted input data\n",
        "  context: openfhe.Context\n",
        "\n",
        "  Returns:\n",
        "  list of openfhe.Ciphertext the encrypted result\n",
        "  \"\"\"\n",
        "  # if you want the weights to be a simple 1D vector and the bias just a scalar\n",
        "  # uncomment the next to lines. Otherwise they will be 2D matrix and 1D vector instead\n",
        "  # coef = coef.reshape(-1)\n",
        "  # intercept = intercept[0]\n",
        "  pass\n",
        "\n",
        "def encrypt_batch(x: np.ndarray, context: openfhe.CryptoContext,\n",
        "                     pub_key: openfhe.PublicKey) -> List[openfhe.Ciphertext]:\n",
        "  \"\"\"\n",
        "  Encrypt a batch of instance and return a list of ciphertexts\n",
        "  \"\"\"\n",
        "   pass\n",
        "\n",
        "def decrypt_batch(encryption: List[openfhe.Ciphertext],\n",
        "                   context: openfhe.CryptoContext,\n",
        "                   sec_key: openfhe.PrivateKey, batchsize: int) -> np.ndarray:\n",
        "  \"\"\"\n",
        "  Decrypt a list of ciphertexts and return a classification result as a numpy array\n",
        "  batchsize is the nubmer of results that we want to return\n",
        "  \"\"\"\n",
        "  pass"
      ],
      "metadata": {
        "id": "7q_BmnkgZTAK"
      },
      "execution_count": null,
      "outputs": []
    },
    {
      "cell_type": "markdown",
      "source": [
        "For convience let's turn all instances into flat vectors"
      ],
      "metadata": {
        "id": "dBmqt8IxZzwO"
      }
    },
    {
      "cell_type": "code",
      "source": [
        "x_flat = x_test.reshape(x_test.shape[0], -1)"
      ],
      "metadata": {
        "id": "JPZXwJ8XZ6su"
      },
      "execution_count": null,
      "outputs": []
    },
    {
      "cell_type": "markdown",
      "source": [
        "Below is the evaluation code with timing information for the batched computation. Do you notice anything about the computation time?"
      ],
      "metadata": {
        "id": "td_rTBQ2aREL"
      }
    },
    {
      "cell_type": "code",
      "source": [
        "# get the plain data\n",
        "print('plain computation')\n",
        "%time plain_result = classifier.decision_function(x_flat)\n",
        "print(plain_result)\n",
        "\n",
        "# batch encrypt the istances\n",
        "print('batch encrypting')\n",
        "%time encryption = encrypt_batch(x_flat, context, keys.publicKey)\n",
        "\n",
        "print('encrypted batch computation')\n",
        "%time encrypted_result = encrypted_perceptron_batch(classifier.coef_, classifier.intercept_, encryption, context)\n",
        "# decrypt and decode the result here\n",
        "decrypted_result = decrypt_batch(encrypted_result, context, keys.secretKey, x_flat.shape[0])\n",
        "print(decrypted_result)\n",
        "\n",
        "# is the comutation reasonably close?\n",
        "print(f'mean squared error between plain and encyrpted computation ? {np.mean((plain_result- decrypted_result)**2)}')"
      ],
      "metadata": {
        "id": "kzNWRLf0wuKA"
      },
      "execution_count": null,
      "outputs": []
    },
    {
      "cell_type": "markdown",
      "source": [
        "Great! But while we were implementing the code, the requiments of our project changed. The new requirment is that the output of our programm should be the probablity that the instance was a `1`. Let's think about this for a second. Large positive values mean, we are very sure that the instance is `1`. \"Large\" (absolute value) negative values mean are very sure the result is `0` or not a `1`. If the output is 0 it is 50/50 between `0` and `1` menaing we are maximally unsure.\n",
        "\n",
        "Luckilly we can simply apply the sigmoid function to the result and that should give us exactly what we need.\n",
        "\n",
        "Let's first define the sigmoid function and run it over the plain results."
      ],
      "metadata": {
        "id": "eWvM0JBAcOtJ"
      }
    },
    {
      "cell_type": "code",
      "source": [
        "def sigmoid(x):\n",
        "  return 1 / (1 + np.exp(-x))\n",
        "\n",
        "sigmoid(plain_result)"
      ],
      "metadata": {
        "id": "izWulXpOdnog"
      },
      "execution_count": null,
      "outputs": []
    },
    {
      "cell_type": "markdown",
      "source": [
        "The computation is overflowing on plain data already. This will not be good on encrypted data. Let's scale the data by a  factor of 100."
      ],
      "metadata": {
        "id": "JABAPKnWeLp_"
      }
    },
    {
      "cell_type": "code",
      "source": [
        "plain_result_scaled = plain_result / 100\n",
        "sigmoid(plain_result_scaled)"
      ],
      "metadata": {
        "id": "bxQykU0jGCDr"
      },
      "execution_count": null,
      "outputs": []
    },
    {
      "cell_type": "markdown",
      "source": [
        "Looks pretty good. The problem is that we can't easily run thins on encrypted data. Let's approximate the function using a polynomial. First we select the interval that we want to approximate over. We'll use the minimum and maximum in our data and then plot what the sigmoid function looks over that interval."
      ],
      "metadata": {
        "id": "KyOmCmoUe2WJ"
      }
    },
    {
      "cell_type": "code",
      "source": [
        "x_values = np.arange(plain_result_scaled.min(), plain_result_scaled.max(), 0.1)\n",
        "y_values = sigmoid(x_values)\n",
        "plt.plot(x_values, y_values)"
      ],
      "metadata": {
        "id": "le6EFrx61hg8"
      },
      "execution_count": null,
      "outputs": []
    },
    {
      "cell_type": "markdown",
      "source": [
        "Next, we can use those values to approximate the function. Try a few different degrees below. If you run into problems with noise and decryption errors you can uncomment the cell below and change the crypto parameters.\n",
        "\n",
        "Experiment with different combinations of poynomial degree, mutliplicaive and scaling mod size."
      ],
      "metadata": {
        "id": "U1z1J70NfhDz"
      }
    },
    {
      "cell_type": "code",
      "source": [
        "# parameters = openfhe.CCParamsCKKSRNS()\n",
        "\n",
        "# context = openfhe.GenCryptoContext(parameters)\n",
        "# context.Enable(openfhe.PKESchemeFeature.PKE)\n",
        "# context.Enable(openfhe.PKESchemeFeature.KEYSWITCH)\n",
        "# context.Enable(openfhe.PKESchemeFeature.LEVELEDSHE)\n",
        "# context.Enable(openfhe.PKESchemeFeature.ADVANCEDSHE)\n",
        "\n",
        "# keys = context.KeyGen()\n",
        "# context.EvalMultKeysGen(keys.secretKey)\n",
        "\n",
        "\n",
        "# # batch encrypt the istances\n",
        "# print('batch encrypting')\n",
        "# %time encryption = encrypt_batch(x_flat, context, keys.publicKey)\n",
        "\n",
        "# print('encrypted batch computation')\n",
        "# %time encrypted_result = encrypted_perceptron_batch(classifier.coef_, classifier.intercept_, encryption, context)"
      ],
      "metadata": {
        "id": "36bL6Pe6hvOA"
      },
      "execution_count": null,
      "outputs": []
    },
    {
      "cell_type": "code",
      "source": [
        "from numpy.polynomial.polynomial import Polynomial\n",
        "\n",
        "degree = 1\n",
        "\n",
        "poly_coeff = np.polyfit(x_values, y_values, degree)\n",
        "poly = Polynomial(poly_coeff[::-1])\n",
        "poly"
      ],
      "metadata": {
        "id": "5wbWELHE3AZg"
      },
      "execution_count": null,
      "outputs": []
    },
    {
      "cell_type": "markdown",
      "source": [
        "Now that we have a polynomial, let's plot that and compare it to the sigmoid function. Are you happy with it?"
      ],
      "metadata": {
        "id": "F3YOQjxPiKE8"
      }
    },
    {
      "cell_type": "code",
      "source": [
        "plt.plot(x_values, poly(x_values))\n",
        "plt.plot(x_values, y_values)\n"
      ],
      "metadata": {
        "id": "gO4hn6uw3QoU"
      },
      "execution_count": null,
      "outputs": []
    },
    {
      "cell_type": "markdown",
      "source": [
        "Remeber that we scaled the plain results? We need to do the same thing to the encrypted result."
      ],
      "metadata": {
        "id": "DQc5ZtJciYf3"
      }
    },
    {
      "cell_type": "code",
      "source": [
        "encrypted_scaled = context.EvalMult(encrypted_result[0], 1/100)"
      ],
      "metadata": {
        "id": "4J2WrRtIijp7"
      },
      "execution_count": null,
      "outputs": []
    },
    {
      "cell_type": "markdown",
      "source": [
        "Now we can compute the polynoial on encyrpted data"
      ],
      "metadata": {
        "id": "H6ImSsxKi2j_"
      }
    },
    {
      "cell_type": "code",
      "source": [
        "%time sigmoid_enc = context.EvalPoly(encrypted_scaled, poly.coef.tolist())"
      ],
      "metadata": {
        "id": "Ok-z--yB4o4I"
      },
      "execution_count": null,
      "outputs": []
    },
    {
      "cell_type": "markdown",
      "source": [
        "Time to the decrypt the data"
      ],
      "metadata": {
        "id": "CqRF7-Nti79x"
      }
    },
    {
      "cell_type": "code",
      "source": [
        "sigmoid_decrypted = decrypt_batch([sigmoid_enc], context, keys.secretKey, plain_result.shape[0])\n",
        "sigmoid_decrypted"
      ],
      "metadata": {
        "id": "ptocGMAhCozb"
      },
      "execution_count": null,
      "outputs": []
    },
    {
      "cell_type": "markdown",
      "source": [],
      "metadata": {
        "id": "59OIfIKAkZlF"
      }
    },
    {
      "cell_type": "markdown",
      "source": [
        "Compute the mean squared error (mse) of the polynomial on plain data and encrypted data. This should be very small"
      ],
      "metadata": {
        "id": "pBQCR980jO7O"
      }
    },
    {
      "cell_type": "code",
      "source": [
        "np.mean((poly(plain_result_scaled) - np.array(sigmoid_decrypted))**2)"
      ],
      "metadata": {
        "id": "6oc1gXpPM0_3"
      },
      "execution_count": null,
      "outputs": []
    },
    {
      "cell_type": "markdown",
      "source": [
        "But we actually don't want to compute the polynomial. We want to compute the sigmoid function. Compute the MSE of the sigmoid function on the plain scaled results and the polynomial on encrypted data. If the MSE is too large try a different approximation degree and/or crypto parameters?\n",
        "\n",
        "Bonus question: If we assume everything large 0.5 is a `1` do any of the classifications change from plain data with the sigmoid function compared to encyrpted data with the approximation? If so how many?"
      ],
      "metadata": {
        "id": "g6p_izqFjaE8"
      }
    },
    {
      "cell_type": "code",
      "source": [
        "# you code goes here"
      ],
      "metadata": {
        "id": "cI1ubAsulVZe"
      },
      "execution_count": null,
      "outputs": []
    }
  ]
}